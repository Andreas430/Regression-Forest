{
 "cells": [
  {
   "cell_type": "markdown",
   "metadata": {},
   "source": [
    "### Import dependencies"
   ]
  },
  {
   "cell_type": "code",
   "execution_count": 1,
   "metadata": {},
   "outputs": [],
   "source": [
    "import pandas\n",
    "import numpy as np\n",
    "import matplotlib.pyplot as plt\n",
    "from random import randrange,sample,randint\n",
    "import warnings\n",
    "warnings.filterwarnings('ignore')"
   ]
  },
  {
   "cell_type": "markdown",
   "metadata": {},
   "source": [
    "### Build toy data"
   ]
  },
  {
   "cell_type": "code",
   "execution_count": 2,
   "metadata": {},
   "outputs": [
    {
     "data": {
      "text/html": [
       "<div>\n",
       "<style scoped>\n",
       "    .dataframe tbody tr th:only-of-type {\n",
       "        vertical-align: middle;\n",
       "    }\n",
       "\n",
       "    .dataframe tbody tr th {\n",
       "        vertical-align: top;\n",
       "    }\n",
       "\n",
       "    .dataframe thead th {\n",
       "        text-align: right;\n",
       "    }\n",
       "</style>\n",
       "<table border=\"1\" class=\"dataframe\">\n",
       "  <thead>\n",
       "    <tr style=\"text-align: right;\">\n",
       "      <th></th>\n",
       "      <th>X</th>\n",
       "      <th>Y</th>\n",
       "    </tr>\n",
       "  </thead>\n",
       "  <tbody>\n",
       "    <tr>\n",
       "      <th>0</th>\n",
       "      <td>-0.790028</td>\n",
       "      <td>-3.172311</td>\n",
       "    </tr>\n",
       "    <tr>\n",
       "      <th>1</th>\n",
       "      <td>0.637613</td>\n",
       "      <td>0.024114</td>\n",
       "    </tr>\n",
       "    <tr>\n",
       "      <th>2</th>\n",
       "      <td>0.065250</td>\n",
       "      <td>-1.398227</td>\n",
       "    </tr>\n",
       "    <tr>\n",
       "      <th>3</th>\n",
       "      <td>0.465028</td>\n",
       "      <td>1.042471</td>\n",
       "    </tr>\n",
       "    <tr>\n",
       "      <th>4</th>\n",
       "      <td>-0.021471</td>\n",
       "      <td>1.169972</td>\n",
       "    </tr>\n",
       "    <tr>\n",
       "      <th>...</th>\n",
       "      <td>...</td>\n",
       "      <td>...</td>\n",
       "    </tr>\n",
       "    <tr>\n",
       "      <th>1995</th>\n",
       "      <td>-0.590557</td>\n",
       "      <td>-0.809890</td>\n",
       "    </tr>\n",
       "    <tr>\n",
       "      <th>1996</th>\n",
       "      <td>-0.243803</td>\n",
       "      <td>-0.283205</td>\n",
       "    </tr>\n",
       "    <tr>\n",
       "      <th>1997</th>\n",
       "      <td>-1.965734</td>\n",
       "      <td>-3.852365</td>\n",
       "    </tr>\n",
       "    <tr>\n",
       "      <th>1998</th>\n",
       "      <td>0.318094</td>\n",
       "      <td>0.028686</td>\n",
       "    </tr>\n",
       "    <tr>\n",
       "      <th>1999</th>\n",
       "      <td>0.969526</td>\n",
       "      <td>1.695152</td>\n",
       "    </tr>\n",
       "  </tbody>\n",
       "</table>\n",
       "<p>2000 rows × 2 columns</p>\n",
       "</div>"
      ],
      "text/plain": [
       "             X         Y\n",
       "0    -0.790028 -3.172311\n",
       "1     0.637613  0.024114\n",
       "2     0.065250 -1.398227\n",
       "3     0.465028  1.042471\n",
       "4    -0.021471  1.169972\n",
       "...        ...       ...\n",
       "1995 -0.590557 -0.809890\n",
       "1996 -0.243803 -0.283205\n",
       "1997 -1.965734 -3.852365\n",
       "1998  0.318094  0.028686\n",
       "1999  0.969526  1.695152\n",
       "\n",
       "[2000 rows x 2 columns]"
      ]
     },
     "execution_count": 2,
     "metadata": {},
     "output_type": "execute_result"
    }
   ],
   "source": [
    "a = np.random.normal(0,1,2000).reshape(2000,1)\n",
    "b = np.ones((2000,2))\n",
    "\n",
    "for i in range(2000):\n",
    "    b[i][0] = a[i]\n",
    "    b[i][1] = a[i]*2  + np.random.normal()\n",
    "    \n",
    "df = pandas.DataFrame(b, columns = ['X','Y'])\n",
    "df"
   ]
  },
  {
   "cell_type": "code",
   "execution_count": 3,
   "metadata": {},
   "outputs": [
    {
     "data": {
      "text/html": [
       "<div>\n",
       "<style scoped>\n",
       "    .dataframe tbody tr th:only-of-type {\n",
       "        vertical-align: middle;\n",
       "    }\n",
       "\n",
       "    .dataframe tbody tr th {\n",
       "        vertical-align: top;\n",
       "    }\n",
       "\n",
       "    .dataframe thead th {\n",
       "        text-align: right;\n",
       "    }\n",
       "</style>\n",
       "<table border=\"1\" class=\"dataframe\">\n",
       "  <thead>\n",
       "    <tr style=\"text-align: right;\">\n",
       "      <th></th>\n",
       "      <th>X</th>\n",
       "      <th>Y</th>\n",
       "    </tr>\n",
       "  </thead>\n",
       "  <tbody>\n",
       "    <tr>\n",
       "      <th>0</th>\n",
       "      <td>-0.782109</td>\n",
       "      <td>-3.172311</td>\n",
       "    </tr>\n",
       "    <tr>\n",
       "      <th>1</th>\n",
       "      <td>0.679686</td>\n",
       "      <td>0.024114</td>\n",
       "    </tr>\n",
       "    <tr>\n",
       "      <th>2</th>\n",
       "      <td>0.093631</td>\n",
       "      <td>-1.398227</td>\n",
       "    </tr>\n",
       "    <tr>\n",
       "      <th>3</th>\n",
       "      <td>0.502972</td>\n",
       "      <td>1.042471</td>\n",
       "    </tr>\n",
       "    <tr>\n",
       "      <th>4</th>\n",
       "      <td>0.004835</td>\n",
       "      <td>1.169972</td>\n",
       "    </tr>\n",
       "    <tr>\n",
       "      <th>...</th>\n",
       "      <td>...</td>\n",
       "      <td>...</td>\n",
       "    </tr>\n",
       "    <tr>\n",
       "      <th>1995</th>\n",
       "      <td>-0.577865</td>\n",
       "      <td>-0.809890</td>\n",
       "    </tr>\n",
       "    <tr>\n",
       "      <th>1996</th>\n",
       "      <td>-0.222816</td>\n",
       "      <td>-0.283205</td>\n",
       "    </tr>\n",
       "    <tr>\n",
       "      <th>1997</th>\n",
       "      <td>-1.985940</td>\n",
       "      <td>-3.852365</td>\n",
       "    </tr>\n",
       "    <tr>\n",
       "      <th>1998</th>\n",
       "      <td>0.352523</td>\n",
       "      <td>0.028686</td>\n",
       "    </tr>\n",
       "    <tr>\n",
       "      <th>1999</th>\n",
       "      <td>1.019539</td>\n",
       "      <td>1.695152</td>\n",
       "    </tr>\n",
       "  </tbody>\n",
       "</table>\n",
       "<p>2000 rows × 2 columns</p>\n",
       "</div>"
      ],
      "text/plain": [
       "             X         Y\n",
       "0    -0.782109 -3.172311\n",
       "1     0.679686  0.024114\n",
       "2     0.093631 -1.398227\n",
       "3     0.502972  1.042471\n",
       "4     0.004835  1.169972\n",
       "...        ...       ...\n",
       "1995 -0.577865 -0.809890\n",
       "1996 -0.222816 -0.283205\n",
       "1997 -1.985940 -3.852365\n",
       "1998  0.352523  0.028686\n",
       "1999  1.019539  1.695152\n",
       "\n",
       "[2000 rows x 2 columns]"
      ]
     },
     "execution_count": 3,
     "metadata": {},
     "output_type": "execute_result"
    }
   ],
   "source": [
    "yield_column = df.loc[:, df.columns == 'Y'] \n",
    "del df['Y']\n",
    "normalized_df = (df-df.mean())/df.std()\n",
    "normalized_df = pandas.merge(normalized_df, yield_column, left_index=True, right_index=True)\n",
    "normalized_df"
   ]
  },
  {
   "cell_type": "code",
   "execution_count": 4,
   "metadata": {},
   "outputs": [
    {
     "data": {
      "image/png": "[encoded data removed]",
      "text/plain": [
       "<Figure size 432x288 with 1 Axes>"
      ]
     },
     "metadata": {
      "needs_background": "light"
     },
     "output_type": "display_data"
    }
   ],
   "source": [
    "plt.scatter('X','Y',data =normalized_df, marker = '+', color = 'burlywood')\n",
    "plt.ylabel('Y-data')\n",
    "plt.xlabel('X-data')\n",
    "plt.title('Toy problem data')\n",
    "plt.show()"
   ]
  },
  {
   "cell_type": "code",
   "execution_count": 5,
   "metadata": {},
   "outputs": [],
   "source": [
    "def mse(y_pred,y_test):\n",
    "    '''Returns the mean squared error given two numpy arrays'''\n",
    "    sum_squared_error = np.sum(np.square(y_test - y_pred))\n",
    "    m_s_e = sum_squared_error/len(y_pred)\n",
    "    \n",
    "    return m_s_e"
   ]
  },
  {
   "cell_type": "code",
   "execution_count": 6,
   "metadata": {},
   "outputs": [],
   "source": [
    "def find_split(x,y):\n",
    "    'Returns the best split based on variance reduction'\n",
    "    \n",
    "    best = {'weighting_combination' : np.inf}\n",
    "    \n",
    "    for i in range(x.shape[1]):\n",
    "        t_i = len(x[:,i]) #total indices\n",
    "        for split in np.unique(x[:,i]):\n",
    "            \n",
    "            left_indices = np.where(x[:,i] <= split)[0]\n",
    "            left_node_var = np.var(y[left_indices])\n",
    "            \n",
    "            t_l = len(left_indices)#total left indices\n",
    "            \n",
    "            \n",
    "            right_indices = np.where(x[:,i] > split)[0]\n",
    "            right_node_var = np.var(y[right_indices])\n",
    "            \n",
    "            t_r = len(right_indices)# total right indices\n",
    "\n",
    "\n",
    "            weighting_combination = (t_l/ t_i) * left_node_var +(t_r/t_i) *right_node_var\n",
    "\n",
    "\n",
    "            if weighting_combination < best['weighting_combination']:\n",
    "                \n",
    "                best = {'feature' : i,\n",
    "                        'split' : split,\n",
    "                        'weighting_combination' : weighting_combination, \n",
    "                        'left_indices' : left_indices,\n",
    "                        'right_indices' : right_indices }\n",
    "\n",
    "\n",
    "    return best"
   ]
  },
  {
   "cell_type": "code",
   "execution_count": 7,
   "metadata": {},
   "outputs": [],
   "source": [
    "def build_tree(x, y, mean ,max_depth = np.inf,min_instances = 50):\n",
    "    # Check if either of the stopping conditions have been reached. If so generate a leaf node...\n",
    "    \n",
    "    \n",
    "    if max_depth==1 :\n",
    "        # Generate a leaf node...\n",
    "\n",
    "      \n",
    "        value = np.mean(y)\n",
    "        return {'leaf' : True, 'class' : value}\n",
    "    \n",
    "    else:\n",
    "        \n",
    "        move = find_split(x, y)\n",
    "        if 'left_indices' not in move or 'right_indices' not in move:\n",
    "            \n",
    "            return {'leaf' : True, 'class' : mean }\n",
    "        \n",
    "        elif len(move['left_indices'])<=min_instances or len(move['right_indices']) <=min_instances :\n",
    "\n",
    "            value = np.mean(y)\n",
    "            return {'leaf' : True, 'class' : value}\n",
    "\n",
    "\n",
    "        \n",
    "        left = build_tree(x[move['left_indices'],:], y[move['left_indices']],mean, max_depth - 1,min_instances = 50)\n",
    "        right = build_tree(x[move['right_indices'],:], y[move['right_indices']],mean, max_depth - 1,min_instances = 50)\n",
    "        \n",
    "        return {'leaf' : False,\n",
    "                'feature' : move['feature'],\n",
    "                'split' : move['split'],\n",
    "                'weighting_combination' : move['weighting_combination'],\n",
    "                'left' : left,\n",
    "                'right' : right}"
   ]
  },
  {
   "cell_type": "code",
   "execution_count": 8,
   "metadata": {},
   "outputs": [],
   "source": [
    "def predict(tree, samples):\n",
    "    \"\"\"Predicts class for every entry of a data matrix.\"\"\"\n",
    "    ret = np.empty(samples.shape[0], dtype=float)\n",
    "    ret.fill(-1)\n",
    "    indices = np.arange(samples.shape[0])\n",
    "    \n",
    "    def tranverse(node, indices):\n",
    "        nonlocal samples\n",
    "        nonlocal ret\n",
    "        \n",
    "        if node['leaf']:\n",
    "            ret[indices] = node['class']\n",
    "        \n",
    "        else:\n",
    "            \n",
    "            going_left = samples[indices, node['feature']] <= node['split']\n",
    "            \n",
    "            left_indices = indices[going_left]\n",
    "            right_indices = indices[np.logical_not(going_left)]\n",
    "            \n",
    "            if left_indices.shape[0] > 0:\n",
    "                tranverse(node['left'], left_indices)\n",
    "                \n",
    "            if right_indices.shape[0] > 0:\n",
    "                tranverse(node['right'], right_indices)\n",
    "    \n",
    "    tranverse(tree, indices)\n",
    "    return ret"
   ]
  },
  {
   "cell_type": "code",
   "execution_count": 9,
   "metadata": {},
   "outputs": [],
   "source": [
    "def bootstrapping(dataframe):\n",
    "    data_range = len(dataframe)\n",
    "    a= []\n",
    "    for i in range(data_range):\n",
    "        b= randrange(0,data_range)\n",
    "        a.append(b)\n",
    "    bootstrapped_df = dataframe.iloc[a,:]\n",
    "    return bootstrapped_df\n",
    "    "
   ]
  },
  {
   "cell_type": "code",
   "execution_count": 10,
   "metadata": {},
   "outputs": [],
   "source": [
    "def random_subspace(dataframe):\n",
    "    number_of_features = len(dataframe.columns) \n",
    "    if number_of_features == 1:\n",
    "        number_random_features = 1\n",
    "    else:\n",
    "        number_random_features  = int(number_of_features**0.5)\n",
    "    \n",
    "    a= sample(range(0,number_of_features-1),number_random_features)# Generates a list of unique random numbers for 0 up to number of features -1\n",
    "    a.append(-1)\n",
    "    random_dataframe = dataframe.iloc[:,a]\n",
    "    return random_dataframe"
   ]
  },
  {
   "cell_type": "code",
   "execution_count": 11,
   "metadata": {},
   "outputs": [],
   "source": [
    "def build_forest(train_data,max_depth =20 ,min_instances = 5,no_of_trees=15):\n",
    "    forest = []\n",
    "    for i in range(no_of_trees):\n",
    "        train_data_tree = bootstrapping(train_data)\n",
    "        train_data_tree = random_subspace(train_data_tree)\n",
    "        x_train = train_data_tree.iloc[:,:-1].to_numpy()\n",
    "        y_train = train_data_tree.iloc[:,-1].to_numpy()\n",
    "        y_train_mean = y_train.mean()\n",
    "        tree = build_tree(x_train,y_train,y_train_mean,max_depth,min_instances)\n",
    "        forest.append(tree)\n",
    "    return forest"
   ]
  },
  {
   "cell_type": "code",
   "execution_count": 12,
   "metadata": {},
   "outputs": [],
   "source": [
    "def predict_forest(forest, test_data):\n",
    "    \n",
    "    \n",
    "    predictions =[]\n",
    "    for tree in forest:\n",
    "        y_pred_tree= predict(tree,test_data)\n",
    "        predictions.append(y_pred_tree)\n",
    "\n",
    "    total = 0\n",
    "    for array in predictions:\n",
    "        total += array\n",
    "    y_pred_forest = total/(len(forest))\n",
    "    \n",
    "    return y_pred_forest\n",
    "        "
   ]
  },
  {
   "cell_type": "code",
   "execution_count": 13,
   "metadata": {},
   "outputs": [],
   "source": [
    "# Split the data into 60%-40% for train/test\n",
    "split = int(len(df)*0.6)\n",
    "data = np.array(normalized_df)\n",
    "np.random.seed(0)\n",
    "shuffle = np.random.permutation(len(data))\n"
   ]
  },
  {
   "cell_type": "code",
   "execution_count": 14,
   "metadata": {},
   "outputs": [
    {
     "data": {
      "text/html": [
       "<div>\n",
       "<style scoped>\n",
       "    .dataframe tbody tr th:only-of-type {\n",
       "        vertical-align: middle;\n",
       "    }\n",
       "\n",
       "    .dataframe tbody tr th {\n",
       "        vertical-align: top;\n",
       "    }\n",
       "\n",
       "    .dataframe thead th {\n",
       "        text-align: right;\n",
       "    }\n",
       "</style>\n",
       "<table border=\"1\" class=\"dataframe\">\n",
       "  <thead>\n",
       "    <tr style=\"text-align: right;\">\n",
       "      <th></th>\n",
       "      <th>X</th>\n",
       "      <th>Y</th>\n",
       "    </tr>\n",
       "  </thead>\n",
       "  <tbody>\n",
       "    <tr>\n",
       "      <th>0</th>\n",
       "      <td>-0.782109</td>\n",
       "      <td>-3.172311</td>\n",
       "    </tr>\n",
       "    <tr>\n",
       "      <th>1</th>\n",
       "      <td>0.679686</td>\n",
       "      <td>0.024114</td>\n",
       "    </tr>\n",
       "    <tr>\n",
       "      <th>2</th>\n",
       "      <td>0.093631</td>\n",
       "      <td>-1.398227</td>\n",
       "    </tr>\n",
       "    <tr>\n",
       "      <th>3</th>\n",
       "      <td>0.502972</td>\n",
       "      <td>1.042471</td>\n",
       "    </tr>\n",
       "    <tr>\n",
       "      <th>4</th>\n",
       "      <td>0.004835</td>\n",
       "      <td>1.169972</td>\n",
       "    </tr>\n",
       "    <tr>\n",
       "      <th>...</th>\n",
       "      <td>...</td>\n",
       "      <td>...</td>\n",
       "    </tr>\n",
       "    <tr>\n",
       "      <th>1195</th>\n",
       "      <td>0.009307</td>\n",
       "      <td>0.325683</td>\n",
       "    </tr>\n",
       "    <tr>\n",
       "      <th>1196</th>\n",
       "      <td>-0.523132</td>\n",
       "      <td>0.065901</td>\n",
       "    </tr>\n",
       "    <tr>\n",
       "      <th>1197</th>\n",
       "      <td>0.798995</td>\n",
       "      <td>1.412241</td>\n",
       "    </tr>\n",
       "    <tr>\n",
       "      <th>1198</th>\n",
       "      <td>0.788522</td>\n",
       "      <td>0.781504</td>\n",
       "    </tr>\n",
       "    <tr>\n",
       "      <th>1199</th>\n",
       "      <td>1.572327</td>\n",
       "      <td>3.092889</td>\n",
       "    </tr>\n",
       "  </tbody>\n",
       "</table>\n",
       "<p>1200 rows × 2 columns</p>\n",
       "</div>"
      ],
      "text/plain": [
       "             X         Y\n",
       "0    -0.782109 -3.172311\n",
       "1     0.679686  0.024114\n",
       "2     0.093631 -1.398227\n",
       "3     0.502972  1.042471\n",
       "4     0.004835  1.169972\n",
       "...        ...       ...\n",
       "1195  0.009307  0.325683\n",
       "1196 -0.523132  0.065901\n",
       "1197  0.798995  1.412241\n",
       "1198  0.788522  0.781504\n",
       "1199  1.572327  3.092889\n",
       "\n",
       "[1200 rows x 2 columns]"
      ]
     },
     "execution_count": 14,
     "metadata": {},
     "output_type": "execute_result"
    }
   ],
   "source": [
    "train_data_forest = normalized_df.iloc[:split,:]\n",
    "test_data_forest = normalized_df.iloc[split:,:]\n",
    "x_test_forest = test_data_forest.iloc[:,:-1].to_numpy()\n",
    "y_test_forest = test_data_forest.iloc[:,-1].to_numpy()\n",
    "train_data_forest"
   ]
  },
  {
   "cell_type": "code",
   "execution_count": 15,
   "metadata": {},
   "outputs": [
    {
     "name": "stdout",
     "output_type": "stream",
     "text": [
      "The mean squared error for the Random Regression Forest toy problem is 1.0985649746061086\n"
     ]
    }
   ],
   "source": [
    "forest = build_forest(train_data_forest)\n",
    "y_pred_forest = predict_forest(forest, x_test_forest)\n",
    "print(\"The mean squared error for the Random Regression Forest toy problem is {}\".format(mse(y_pred_forest,y_test_forest)))"
   ]
  },
  {
   "cell_type": "code",
   "execution_count": 16,
   "metadata": {},
   "outputs": [
    {
     "data": {
      "text/plain": [
       "<matplotlib.legend.Legend at 0x1f45fb8fee0>"
      ]
     },
     "execution_count": 16,
     "metadata": {},
     "output_type": "execute_result"
    },
    {
     "data": {
      "image/png": "[encoded data removed]",
      "text/plain": [
       "<Figure size 504x504 with 1 Axes>"
      ]
     },
     "metadata": {
      "needs_background": "light"
     },
     "output_type": "display_data"
    }
   ],
   "source": [
    "plt.figure(figsize=(7,7))\n",
    "plt.scatter(x_test_forest,y_test_forest,color = 'orchid',marker = '+')\n",
    "plt.scatter(x_test_forest,y_pred_forest,color = 'cornflowerblue',marker = '+')\n",
    "plt.xlabel('X')\n",
    "plt.ylabel('Y')\n",
    "plt.title('Regression forest')\n",
    "plt.legend([\"Expected\", \"Predicted\"], loc =\"lower right\",prop={'size': 15} )"
   ]
  },
  {
   "cell_type": "code",
   "execution_count": null,
   "metadata": {},
   "outputs": [],
   "source": []
  }
 ],
 "metadata": {
  "kernelspec": {
   "display_name": "Python 3",
   "language": "python",
   "name": "python3"
  },
  "language_info": {
   "codemirror_mode": {
    "name": "ipython",
    "version": 3
   },
   "file_extension": ".py",
   "mimetype": "text/x-python",
   "name": "python",
   "nbconvert_exporter": "python",
   "pygments_lexer": "ipython3",
   "version": "3.8.8"
  }
 },
 "nbformat": 4,
 "nbformat_minor": 4
}
